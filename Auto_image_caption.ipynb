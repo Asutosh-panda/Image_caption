{
  "cells": [
    {
      "cell_type": "code",
      "source": [
        "cd '/content/drive/MyDrive/ML_datasets/Image_captioning'"
      ],
      "metadata": {
        "colab": {
          "base_uri": "https://localhost:8080/"
        },
        "id": "eeTOF0ZCi6eg",
        "outputId": "2de8ae5c-5eb3-4838-d45b-fb2878587626"
      },
      "execution_count": null,
      "outputs": [
        {
          "output_type": "stream",
          "name": "stdout",
          "text": [
            "/content/drive/MyDrive/ML_datasets/Image_captioning\n"
          ]
        }
      ]
    },
    {
      "cell_type": "code",
      "source": [
        "pwd"
      ],
      "metadata": {
        "colab": {
          "base_uri": "https://localhost:8080/",
          "height": 35
        },
        "id": "uCRPet5riNsO",
        "outputId": "53f227fa-2fcb-4563-f16a-504c855f3f5b"
      },
      "execution_count": null,
      "outputs": [
        {
          "output_type": "execute_result",
          "data": {
            "application/vnd.google.colaboratory.intrinsic+json": {
              "type": "string"
            },
            "text/plain": [
              "'/content/drive/MyDrive/ML_datasets/Image_captioning'"
            ]
          },
          "metadata": {},
          "execution_count": 6
        }
      ]
    },
    {
      "cell_type": "code",
      "execution_count": null,
      "metadata": {
        "id": "hG8Lmmf5eVf4"
      },
      "outputs": [],
      "source": [
        "!wget -q https://github.com/jbrownlee/Datasets/releases/download/Flickr8k/Flickr8k_Dataset.zip\n",
        "!wget -q https://github.com/jbrownlee/Datasets/releases/download/Flickr8k/Flickr8k_text.zip\n",
        "!unzip -qq Flickr8k_Dataset.zip\n",
        "!unzip -qq Flickr8k_text.zip\n",
        "!rm Flickr8k_Dataset.zip Flickr8k_text.zip"
      ]
    },
    {
      "cell_type": "code",
      "source": [
        "import os\n",
        "import numpy as np\n",
        "import torch\n",
        "import torch.nn as nn\n",
        "from torch.utils.data import Dataset, DataLoader\n",
        "from torchvision import transforms, models\n",
        "from PIL import Image\n",
        "\n",
        "\n",
        "IMAGES_PATH = \"/content/drive/MyDrive/ML_datasets/Image_captioning/Flicker8k_Dataset\"\n",
        "IMAGE_SIZE =(299, 299)\n",
        "VOCAB_SIZE = 10000\n",
        "SEQ_LENGTH = 25\n",
        "EMBED_DIM = 512\n",
        "LSTM_UNITS = 512\n",
        "BATCH_SIZE = 64\n",
        "EPOCHS = 30\n",
        "DEVICE =torch.device(\"cuda\" if torch.cuda.is_available() else \"cpu\")\n",
        "\n",
        "\n",
        "def load_captions_data(filename):\n",
        "    caption_mapping = {}\n",
        "    text_data = []\n",
        "    images_to_skip =set()\n",
        "    with open(filename,'r') as f:\n",
        "        for line in f:\n",
        "            line = line.strip()\n",
        "\n",
        "            img_name,caption =line.split(\"\\t\")\n",
        "            img_name = img_name.split(\"#\")[0]\n",
        "            img_path= os.path.join(IMAGES_PATH, img_name)\n",
        "            tokens =caption.strip().split()\n",
        "\n",
        "            if len(tokens)<5 or len(tokens)>SEQ_LENGTH:\n",
        "                images_to_skip.add(img_path)\n",
        "                continue\n",
        "\n",
        "            if img_path.endswith(\"jpg\") and img_path not in images_to_skip:\n",
        "                caption = \"<start> \"+caption.strip() +\" <end>\"\n",
        "                text_data.append(caption)\n",
        "\n",
        "                if img_path in caption_mapping:\n",
        "                    caption_mapping[img_path].append(caption)\n",
        "                else:\n",
        "                    caption_mapping[img_path] =[caption]\n",
        "\n",
        "    for img_path in images_to_skip:\n",
        "        if img_path in caption_mapping:\n",
        "            del caption_mapping[img_path]\n",
        "\n",
        "    return caption_mapping,text_data\n"
      ],
      "metadata": {
        "id": "MUkz-VMkvTHw"
      },
      "execution_count": null,
      "outputs": []
    },
    {
      "cell_type": "code",
      "source": [
        "def train_val_split(caption_data, train_size=0.8):\n",
        "    all_images = list(caption_data.keys())\n",
        "    np.random.shuffle(all_images)\n",
        "    train_len = int(len(all_images) * train_size)\n",
        "    train_data = {img: caption_data[img] for img in all_images[:train_len]}\n",
        "    val_data   = {img: caption_data[img] for img in all_images[train_len:]}\n",
        "    return train_data, val_data"
      ],
      "metadata": {
        "id": "_kMcEi4Qxar3"
      },
      "execution_count": 2,
      "outputs": []
    },
    {
      "cell_type": "code",
      "source": [
        "from collections import Counter\n",
        "class Vocabulary:\n",
        "    def __init__(self, max_size=VOCAB_SIZE, min_freq=1):\n",
        "        self.word2idx = {\"<pad>\":0, \"<start>\":1, \"<end>\":2, \"<unk>\":3}\n",
        "        self.idx2word = {0:\"<pad>\", 1:\"<start>\", 2:\"<end>\", 3:\"<unk>\"}\n",
        "        self.max_size = max_size\n",
        "        self.min_freq = min_freq\n",
        "\n",
        "    def build_vocab(self, sentences):\n",
        "        counter = Counter()\n",
        "        for sent in sentences:\n",
        "            counter.update(sent.lower().split())\n",
        "        words = [w for w, f in counter.items() if f >= self.min_freq]\n",
        "        words = words[:self.max_size - len(self.word2idx)]\n",
        "        for i, w in enumerate(words, len(self.word2idx)):\n",
        "            self.word2idx[w] = i\n",
        "            self.idx2word[i] = w\n",
        "\n",
        "    def encode(self, sentence):\n",
        "        return [self.word2idx.get(w, self.word2idx[\"<unk>\"]) for w in sentence.lower().split()]\n",
        "\n",
        "    def decode(self, indices):\n",
        "        return \" \".join([self.idx2word.get(idx, \"<unk>\") for idx in indices])"
      ],
      "metadata": {
        "id": "5qvsvoiUx9xP"
      },
      "execution_count": 5,
      "outputs": []
    },
    {
      "cell_type": "code",
      "source": [
        "class FlickrDataset(Dataset):\n",
        "    def __init__(self, image_paths, captions, vocab, transform=None):\n",
        "        self.image_paths = []\n",
        "        self.captions = []\n",
        "        for img,caps in zip(image_paths, captions):\n",
        "            for cap in caps:\n",
        "                self.image_paths.append(img)\n",
        "                self.captions.append(cap)\n",
        "        self.vocab = vocab\n",
        "        self.transform = transform\n",
        "\n",
        "    def __len__(self):\n",
        "        return len(self.captions)\n",
        "\n",
        "    def __getitem__(self, idx):\n",
        "        img_path = self.image_paths[idx]\n",
        "        image = Image.open(img_path).convert(\"RGB\")\n",
        "        if self.transform:\n",
        "            image = self.transform(image)\n",
        "        caption = self.vocab.encode(self.captions[idx])\n",
        "        caption = torch.tensor(caption)\n",
        "        return image, caption\n",
        "\n",
        "def collate_fn(batch):\n",
        "    images, captions = zip(*batch)\n",
        "    images = torch.stack(images)\n",
        "    lengths = [len(c) for c in captions]\n",
        "    captions_padded = nn.utils.rnn.pad_sequence(captions, batch_first=True, padding_value=0)\n",
        "    return images, captions_padded, lengths"
      ],
      "metadata": {
        "id": "u3WSON1qxdeU"
      },
      "execution_count": null,
      "outputs": []
    },
    {
      "cell_type": "code",
      "source": [
        "transform = transforms.Compose([\n",
        "    transforms.Resize(IMAGE_SIZE),\n",
        "    transforms.ToTensor(),\n",
        "])"
      ],
      "metadata": {
        "id": "5qebitt-yfqj"
      },
      "execution_count": null,
      "outputs": []
    },
    {
      "cell_type": "code",
      "source": [
        "class CNN_Encoder(nn.Module):\n",
        "    def __init__(self, embed_dim=EMBED_DIM):\n",
        "        super().__init__()\n",
        "        cnn = models.efficientnet_b0(pretrained=True)\n",
        "        modules = list(cnn.children())[:-1]\n",
        "        self.cnn = nn.Sequential(*modules)\n",
        "        self.pool = nn.AdaptiveAvgPool2d((1,1))\n",
        "        self.fc = nn.Linear(cnn.classifier[1].in_features, embed_dim)\n",
        "        self.relu = nn.ReLU()\n",
        "        for param in self.cnn.parameters():\n",
        "            param.requires_grad = False\n",
        "\n",
        "    def forward(self, images):\n",
        "        x = self.cnn(images)\n",
        "        x = self.pool(x)\n",
        "        x = x.view(x.size(0), -1)\n",
        "        x = self.fc(x)\n",
        "        x = self.relu(x)\n",
        "        return x.unsqueeze(1)"
      ],
      "metadata": {
        "id": "DTvsC4Ioykhz"
      },
      "execution_count": null,
      "outputs": []
    },
    {
      "cell_type": "code",
      "source": [
        "class LSTM_Decoder(nn.Module):\n",
        "    def __init__(self, embed_dim, hidden_dim, vocab_size):\n",
        "        super().__init__()\n",
        "        self.embed = nn.Embedding(vocab_size, embed_dim)\n",
        "        self.lstm = nn.LSTM(embed_dim, hidden_dim, batch_first=True)\n",
        "        self.fc = nn.Linear(hidden_dim, vocab_size)\n",
        "\n",
        "    def forward(self, features, captions):\n",
        "        embeddings = self.embed(captions)\n",
        "        embeddings = torch.cat((features, embeddings[:, :-1, :]), 1)\n",
        "        outputs, _ = self.lstm(embeddings)\n",
        "        outputs = self.fc(outputs)\n",
        "        return outputs"
      ],
      "metadata": {
        "id": "G9xFoYohyo5q"
      },
      "execution_count": null,
      "outputs": []
    },
    {
      "cell_type": "code",
      "source": [
        "captions_mapping, text_data = load_captions_data(\"Flickr8k.token.txt\")\n",
        "train_data, val_data = train_val_split(captions_mapping)\n",
        "\n",
        "\n",
        "vocab = Vocabulary(max_size=VOCAB_SIZE)\n",
        "vocab.build_vocab(text_data)\n",
        "\n",
        "train_dataset = FlickrDataset(list(train_data.keys()), list(train_data.values()), vocab, transform)\n",
        "val_dataset = FlickrDataset(list(val_data.keys()), list(val_data.values()), vocab, transform)\n",
        "\n",
        "train_loader = DataLoader(train_dataset, batch_size=BATCH_SIZE, shuffle=True, collate_fn=collate_fn)\n",
        "val_loader = DataLoader(val_dataset, batch_size=BATCH_SIZE, shuffle=False, collate_fn=collate_fn)"
      ],
      "metadata": {
        "id": "f3bgu5O_ywqh"
      },
      "execution_count": null,
      "outputs": []
    },
    {
      "cell_type": "code",
      "source": [
        "import nltk\n",
        "from nltk.translate.bleu_score import corpus_bleu\n",
        "\n",
        "nltk.download('punkt')\n",
        "\n",
        "def evaluate_bleu(encoder, decoder, dataloader, vocab, max_len=SEQ_LENGTH):\n",
        "    encoder.eval()\n",
        "    decoder.eval()\n",
        "\n",
        "    references = []\n",
        "    hypotheses = []\n",
        "\n",
        "    with torch.no_grad():\n",
        "        for images, captions, lengths in dataloader:\n",
        "            images = images.to(DEVICE)\n",
        "            features = encoder(images)\n",
        "\n",
        "            for i in range(images.size(0)):\n",
        "                caps = captions[i]\n",
        "                ref = [[vocab.idx2word[idx.item()]\n",
        "                        for idx in caps if idx.item() not in [0,1,2,3]]]\n",
        "                references.append(ref)\n",
        "\n",
        "\n",
        "                generated = [vocab.word2idx[\"<start>\"]]\n",
        "                for _ in range(max_len):\n",
        "                    cap_tensor = torch.tensor(generated).unsqueeze(0).to(DEVICE)\n",
        "                    output = decoder(features[i].unsqueeze(0), cap_tensor)\n",
        "                    next_word = output.argmax(2)[:,-1].item()\n",
        "                    generated.append(next_word)\n",
        "                    if next_word == vocab.word2idx[\"<end>\"]:\n",
        "                        break\n",
        "                hyp = [vocab.idx2word[idx] for idx in generated[1:-1]]\n",
        "                hypotheses.append(hyp)\n",
        "\n",
        "    bleu_score = corpus_bleu(references, hypotheses)\n",
        "    return bleu_score"
      ],
      "metadata": {
        "id": "hSVo4ZbJzQmL"
      },
      "execution_count": null,
      "outputs": []
    },
    {
      "cell_type": "code",
      "source": [
        "encoder = CNN_Encoder().to(DEVICE)\n",
        "decoder = LSTM_Decoder(embed_dim=EMBED_DIM, hidden_dim=LSTM_UNITS, vocab_size=VOCAB_SIZE).to(DEVICE)\n",
        "\n",
        "criterion = nn.CrossEntropyLoss(ignore_index=0)\n",
        "params = list(decoder.parameters())\n",
        "optimizer = torch.optim.Adam(params, lr=1e-3)\n",
        "\n",
        "for epoch in range(EPOCHS):\n",
        "    encoder.eval()\n",
        "    decoder.train()\n",
        "\n",
        "    total_loss = 0\n",
        "    for images, captions, lengths in train_loader:\n",
        "        images, captions = images.to(DEVICE), captions.to(DEVICE)\n",
        "        features = encoder(images)\n",
        "        outputs = decoder(features, captions)\n",
        "        loss = criterion(outputs.view(-1, VOCAB_SIZE), captions.view(-1))\n",
        "\n",
        "        optimizer.zero_grad()\n",
        "        loss.backward()\n",
        "        optimizer.step()\n",
        "\n",
        "        total_loss += loss.item()\n",
        "\n",
        "    avg_loss =total_loss/len(train_loader)\n",
        "\n",
        "    bleu = evaluate_bleu(encoder,decoder,val_loader,vocab)\n",
        "\n",
        "    print(f\"Epoch {epoch+1}/{EPOCHS},Loss: {avg_loss:.4f},Validation BLEU: {bleu:.4f}\")\n"
      ],
      "metadata": {
        "id": "HppN0yJoy2kL"
      },
      "execution_count": null,
      "outputs": []
    },
    {
      "cell_type": "code",
      "source": [
        "def generate_caption(image_path, encoder, decoder, vocab, max_len=SEQ_LENGTH):\n",
        "    encoder.eval()\n",
        "    decoder.eval()\n",
        "    image = Image.open(image_path).convert(\"RGB\")\n",
        "    image = transform(image).unsqueeze(0).to(DEVICE)\n",
        "    with torch.no_grad():\n",
        "        features = encoder(image)\n",
        "        caption = [vocab.word2idx[\"<start>\"]]\n",
        "        for _ in range(max_len):\n",
        "            cap_tensor = torch.tensor(caption).unsqueeze(0).to(DEVICE)\n",
        "            output = decoder(features, cap_tensor)\n",
        "            next_word = output.argmax(2)[:,-1].item()\n",
        "            caption.append(next_word)\n",
        "            if next_word == vocab.word2idx[\"<end>\"]:\n",
        "                break\n",
        "    return vocab.decode(caption[1:-1])"
      ],
      "metadata": {
        "id": "Lin_ezzPy9Jf"
      },
      "execution_count": null,
      "outputs": []
    }
  ],
  "metadata": {
    "colab": {
      "provenance": []
    },
    "kernelspec": {
      "display_name": "Python 3",
      "language": "python",
      "name": "python3"
    },
    "language_info": {
      "codemirror_mode": {
        "name": "ipython",
        "version": 3
      },
      "file_extension": ".py",
      "mimetype": "text/x-python",
      "name": "python",
      "nbconvert_exporter": "python",
      "pygments_lexer": "ipython3",
      "version": "3.7.0"
    },
    "accelerator": "GPU"
  },
  "nbformat": 4,
  "nbformat_minor": 0
}